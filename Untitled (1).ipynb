{
  "nbformat": 4,
  "nbformat_minor": 0,
  "metadata": {
    "colab": {
      "name": "Untitled",
      "provenance": []
    },
    "kernelspec": {
      "name": "python3",
      "display_name": "Python 3"
    },
    "language_info": {
      "name": "python"
    }
  },
  "cells": [
    {
      "cell_type": "code",
      "metadata": {
        "id": "OeIPSMbouDsZ"
      },
      "source": [
        "# Program to check if a number is prime or not\n",
        "\n",
        "num = int(input(' please enter your number: '))\n",
        "\n",
        "i = 2\n",
        "flag = 0\n",
        "while i<num:\n",
        "  if num%i == 0:\n",
        "    flag =1\n",
        "    print (num, \"is not a prime number! \");\n",
        "    i = i + 1\n",
        "if flag == 0:\n",
        "  print (num,\"is a prime number!\");"
      ],
      "execution_count": null,
      "outputs": []
    }
  ]
}